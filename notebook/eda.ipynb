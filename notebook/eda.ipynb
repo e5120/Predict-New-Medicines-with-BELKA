{
 "cells": [
  {
   "cell_type": "code",
   "execution_count": 1,
   "id": "9c5c37ab-ee18-48e2-9199-0a4f0f4ad5e7",
   "metadata": {},
   "outputs": [],
   "source": [
    "import sys\n",
    "sys.path.append(\"..\")\n",
    "from pathlib import Path\n",
    "\n",
    "import numpy as np\n",
    "import polars as pl"
   ]
  },
  {
   "cell_type": "markdown",
   "id": "1d6def8b-83ee-4eb8-95b3-43a99d52d22f",
   "metadata": {},
   "source": [
    "## 学習データ"
   ]
  },
  {
   "cell_type": "code",
   "execution_count": 2,
   "id": "b41f3637-2dc8-4688-9241-528c7d70299a",
   "metadata": {},
   "outputs": [
    {
     "data": {
      "text/plain": [
       "10"
      ]
     },
     "execution_count": 2,
     "metadata": {},
     "output_type": "execute_result"
    }
   ],
   "source": [
    "data_dir = Path(\"../../data/lb\")\n",
    "trn_files = sorted(list(data_dir.glob(\"processed_train_*.parquet\")))\n",
    "len(trn_files)"
   ]
  },
  {
   "cell_type": "code",
   "execution_count": 3,
   "id": "c331ea91-ea15-4b55-81ac-309cdc41bc42",
   "metadata": {},
   "outputs": [],
   "source": [
    "for trn_filename in trn_files:\n",
    "    trn_df = pl.read_parquet(trn_filename)\n",
    "    break"
   ]
  },
  {
   "cell_type": "code",
   "execution_count": 4,
   "id": "30d033c5-5856-49f0-bc08-7c931682226d",
   "metadata": {},
   "outputs": [
    {
     "data": {
      "text/plain": [
       "(30000000, 7)"
      ]
     },
     "execution_count": 4,
     "metadata": {},
     "output_type": "execute_result"
    }
   ],
   "source": [
    "trn_df.shape"
   ]
  },
  {
   "cell_type": "code",
   "execution_count": 5,
   "id": "dc5b0009-e30e-4826-9b74-e2280c26e2bf",
   "metadata": {},
   "outputs": [
    {
     "data": {
      "text/html": [
       "<div><style>\n",
       ".dataframe > thead > tr,\n",
       ".dataframe > tbody > tr {\n",
       "  text-align: right;\n",
       "  white-space: pre-wrap;\n",
       "}\n",
       "</style>\n",
       "<small>shape: (5, 7)</small><table border=\"1\" class=\"dataframe\"><thead><tr><th>id</th><th>buildingblock1_smiles</th><th>buildingblock2_smiles</th><th>buildingblock3_smiles</th><th>molecule_smiles</th><th>protein_name</th><th>binds</th></tr><tr><td>i32</td><td>str</td><td>str</td><td>str</td><td>str</td><td>str</td><td>bool</td></tr></thead><tbody><tr><td>0</td><td>&quot;C#CC[C@@H](CC(…</td><td>&quot;C#CCOc1ccc(CN)…</td><td>&quot;Br.Br.NCC1CCCN…</td><td>&quot;C#CCOc1ccc(CNc…</td><td>&quot;BRD4&quot;</td><td>false</td></tr><tr><td>1</td><td>&quot;C#CC[C@@H](CC(…</td><td>&quot;C#CCOc1ccc(CN)…</td><td>&quot;Br.Br.NCC1CCCN…</td><td>&quot;C#CCOc1ccc(CNc…</td><td>&quot;HSA&quot;</td><td>false</td></tr><tr><td>2</td><td>&quot;C#CC[C@@H](CC(…</td><td>&quot;C#CCOc1ccc(CN)…</td><td>&quot;Br.Br.NCC1CCCN…</td><td>&quot;C#CCOc1ccc(CNc…</td><td>&quot;sEH&quot;</td><td>false</td></tr><tr><td>3</td><td>&quot;C#CC[C@@H](CC(…</td><td>&quot;C#CCOc1ccc(CN)…</td><td>&quot;Br.NCc1cccc(Br…</td><td>&quot;C#CCOc1ccc(CNc…</td><td>&quot;BRD4&quot;</td><td>false</td></tr><tr><td>4</td><td>&quot;C#CC[C@@H](CC(…</td><td>&quot;C#CCOc1ccc(CN)…</td><td>&quot;Br.NCc1cccc(Br…</td><td>&quot;C#CCOc1ccc(CNc…</td><td>&quot;HSA&quot;</td><td>false</td></tr></tbody></table></div>"
      ],
      "text/plain": [
       "shape: (5, 7)\n",
       "┌─────┬─────────────────┬─────────────────┬────────────────┬────────────────┬──────────────┬───────┐\n",
       "│ id  ┆ buildingblock1_ ┆ buildingblock2_ ┆ buildingblock3 ┆ molecule_smile ┆ protein_name ┆ binds │\n",
       "│ --- ┆ smiles          ┆ smiles          ┆ _smiles        ┆ s              ┆ ---          ┆ ---   │\n",
       "│ i32 ┆ ---             ┆ ---             ┆ ---            ┆ ---            ┆ str          ┆ bool  │\n",
       "│     ┆ str             ┆ str             ┆ str            ┆ str            ┆              ┆       │\n",
       "╞═════╪═════════════════╪═════════════════╪════════════════╪════════════════╪══════════════╪═══════╡\n",
       "│ 0   ┆ C#CC[C@@H](CC(= ┆ C#CCOc1ccc(CN)c ┆ Br.Br.NCC1CCCN ┆ C#CCOc1ccc(CNc ┆ BRD4         ┆ false │\n",
       "│     ┆ O)O)NC(=O)OCC1c ┆ c1.Cl           ┆ 1c1cccnn1      ┆ 2nc(NCC3CCCN3c ┆              ┆       │\n",
       "│     ┆ 2c…             ┆                 ┆                ┆ 3ccc…          ┆              ┆       │\n",
       "│ 1   ┆ C#CC[C@@H](CC(= ┆ C#CCOc1ccc(CN)c ┆ Br.Br.NCC1CCCN ┆ C#CCOc1ccc(CNc ┆ HSA          ┆ false │\n",
       "│     ┆ O)O)NC(=O)OCC1c ┆ c1.Cl           ┆ 1c1cccnn1      ┆ 2nc(NCC3CCCN3c ┆              ┆       │\n",
       "│     ┆ 2c…             ┆                 ┆                ┆ 3ccc…          ┆              ┆       │\n",
       "│ 2   ┆ C#CC[C@@H](CC(= ┆ C#CCOc1ccc(CN)c ┆ Br.Br.NCC1CCCN ┆ C#CCOc1ccc(CNc ┆ sEH          ┆ false │\n",
       "│     ┆ O)O)NC(=O)OCC1c ┆ c1.Cl           ┆ 1c1cccnn1      ┆ 2nc(NCC3CCCN3c ┆              ┆       │\n",
       "│     ┆ 2c…             ┆                 ┆                ┆ 3ccc…          ┆              ┆       │\n",
       "│ 3   ┆ C#CC[C@@H](CC(= ┆ C#CCOc1ccc(CN)c ┆ Br.NCc1cccc(Br ┆ C#CCOc1ccc(CNc ┆ BRD4         ┆ false │\n",
       "│     ┆ O)O)NC(=O)OCC1c ┆ c1.Cl           ┆ )n1            ┆ 2nc(NCc3cccc(B ┆              ┆       │\n",
       "│     ┆ 2c…             ┆                 ┆                ┆ r)n3…          ┆              ┆       │\n",
       "│ 4   ┆ C#CC[C@@H](CC(= ┆ C#CCOc1ccc(CN)c ┆ Br.NCc1cccc(Br ┆ C#CCOc1ccc(CNc ┆ HSA          ┆ false │\n",
       "│     ┆ O)O)NC(=O)OCC1c ┆ c1.Cl           ┆ )n1            ┆ 2nc(NCc3cccc(B ┆              ┆       │\n",
       "│     ┆ 2c…             ┆                 ┆                ┆ r)n3…          ┆              ┆       │\n",
       "└─────┴─────────────────┴─────────────────┴────────────────┴────────────────┴──────────────┴───────┘"
      ]
     },
     "execution_count": 5,
     "metadata": {},
     "output_type": "execute_result"
    }
   ],
   "source": [
    "trn_df.head()"
   ]
  },
  {
   "cell_type": "code",
   "execution_count": 6,
   "id": "6c2b6d44-a3b5-45a5-ab75-9cb00efecac7",
   "metadata": {},
   "outputs": [
    {
     "data": {
      "text/plain": [
       "[0,\n",
       " 'C#CC[C@@H](CC(=O)O)NC(=O)OCC1c2ccccc2-c2ccccc21',\n",
       " 'C#CCOc1ccc(CN)cc1.Cl',\n",
       " 'Br.Br.NCC1CCCN1c1cccnn1',\n",
       " 'C#CCOc1ccc(CNc2nc(NCC3CCCN3c3cccnn3)nc(N[C@@H](CC#C)CC(=O)N[Dy])n2)cc1',\n",
       " 'BRD4',\n",
       " False]"
      ]
     },
     "execution_count": 6,
     "metadata": {},
     "output_type": "execute_result"
    }
   ],
   "source": [
    "trn_df[0].to_numpy()[0].tolist()"
   ]
  },
  {
   "cell_type": "code",
   "execution_count": 7,
   "id": "12227883-8434-46ef-ad9f-fd13a9f0bc46",
   "metadata": {},
   "outputs": [
    {
     "data": {
      "text/html": [
       "<div><style>\n",
       ".dataframe > thead > tr,\n",
       ".dataframe > tbody > tr {\n",
       "  text-align: right;\n",
       "  white-space: pre-wrap;\n",
       "}\n",
       "</style>\n",
       "<small>shape: (10_000_000, 8)</small><table border=\"1\" class=\"dataframe\"><thead><tr><th>id</th><th>buildingblock1_smiles</th><th>buildingblock2_smiles</th><th>buildingblock3_smiles</th><th>molecule_smiles</th><th>BRD4</th><th>HSA</th><th>sEH</th></tr><tr><td>i32</td><td>str</td><td>str</td><td>str</td><td>str</td><td>bool</td><td>bool</td><td>bool</td></tr></thead><tbody><tr><td>0</td><td>&quot;C#CC[C@@H](CC(…</td><td>&quot;C#CCOc1ccc(CN)…</td><td>&quot;Br.Br.NCC1CCCN…</td><td>&quot;C#CCOc1ccc(CNc…</td><td>false</td><td>false</td><td>false</td></tr><tr><td>3</td><td>&quot;C#CC[C@@H](CC(…</td><td>&quot;C#CCOc1ccc(CN)…</td><td>&quot;Br.NCc1cccc(Br…</td><td>&quot;C#CCOc1ccc(CNc…</td><td>false</td><td>false</td><td>false</td></tr><tr><td>6</td><td>&quot;C#CC[C@@H](CC(…</td><td>&quot;C#CCOc1ccc(CN)…</td><td>&quot;C#CCOc1ccc(CN)…</td><td>&quot;C#CCOc1ccc(CNc…</td><td>false</td><td>false</td><td>false</td></tr><tr><td>9</td><td>&quot;C#CC[C@@H](CC(…</td><td>&quot;C#CCOc1ccc(CN)…</td><td>&quot;C=C(C)C(=O)NCC…</td><td>&quot;C#CCOc1ccc(CNc…</td><td>false</td><td>false</td><td>false</td></tr><tr><td>12</td><td>&quot;C#CC[C@@H](CC(…</td><td>&quot;C#CCOc1ccc(CN)…</td><td>&quot;C=CCNC(=O)CN.C…</td><td>&quot;C#CCOc1ccc(CNc…</td><td>false</td><td>false</td><td>false</td></tr><tr><td>&hellip;</td><td>&hellip;</td><td>&hellip;</td><td>&hellip;</td><td>&hellip;</td><td>&hellip;</td><td>&hellip;</td><td>&hellip;</td></tr><tr><td>29999985</td><td>&quot;COc1cc(C(=O)O)…</td><td>&quot;Cl.NCCC1CC1&quot;</td><td>&quot;Cl.NCc1nc(-c2c…</td><td>&quot;COc1cc(C(=O)N[…</td><td>false</td><td>false</td><td>false</td></tr><tr><td>29999988</td><td>&quot;COc1cc(C(=O)O)…</td><td>&quot;Cl.NCCC1CC1&quot;</td><td>&quot;Cl.NCc1nc2cc(F…</td><td>&quot;COc1cc(C(=O)N[…</td><td>false</td><td>false</td><td>false</td></tr><tr><td>29999991</td><td>&quot;COc1cc(C(=O)O)…</td><td>&quot;Cl.NCCC1CC1&quot;</td><td>&quot;Cl.NCc1nc2cccc…</td><td>&quot;COc1cc(C(=O)N[…</td><td>false</td><td>false</td><td>false</td></tr><tr><td>29999994</td><td>&quot;COc1cc(C(=O)O)…</td><td>&quot;Cl.NCCC1CC1&quot;</td><td>&quot;Cl.NCc1nc2cccc…</td><td>&quot;COc1cc(C(=O)N[…</td><td>false</td><td>false</td><td>false</td></tr><tr><td>29999997</td><td>&quot;COc1cc(C(=O)O)…</td><td>&quot;Cl.NCCC1CC1&quot;</td><td>&quot;Cl.NCc1ncon1&quot;</td><td>&quot;COc1cc(C(=O)N[…</td><td>false</td><td>false</td><td>false</td></tr></tbody></table></div>"
      ],
      "text/plain": [
       "shape: (10_000_000, 8)\n",
       "┌──────────┬───────────────┬───────────────┬───────────────┬───────────────┬───────┬───────┬───────┐\n",
       "│ id       ┆ buildingblock ┆ buildingblock ┆ buildingblock ┆ molecule_smil ┆ BRD4  ┆ HSA   ┆ sEH   │\n",
       "│ ---      ┆ 1_smiles      ┆ 2_smiles      ┆ 3_smiles      ┆ es            ┆ ---   ┆ ---   ┆ ---   │\n",
       "│ i32      ┆ ---           ┆ ---           ┆ ---           ┆ ---           ┆ bool  ┆ bool  ┆ bool  │\n",
       "│          ┆ str           ┆ str           ┆ str           ┆ str           ┆       ┆       ┆       │\n",
       "╞══════════╪═══════════════╪═══════════════╪═══════════════╪═══════════════╪═══════╪═══════╪═══════╡\n",
       "│ 0        ┆ C#CC[C@@H](CC ┆ C#CCOc1ccc(CN ┆ Br.Br.NCC1CCC ┆ C#CCOc1ccc(CN ┆ false ┆ false ┆ false │\n",
       "│          ┆ (=O)O)NC(=O)O ┆ )cc1.Cl       ┆ N1c1cccnn1    ┆ c2nc(NCC3CCCN ┆       ┆       ┆       │\n",
       "│          ┆ CC1c2c…       ┆               ┆               ┆ 3c3ccc…       ┆       ┆       ┆       │\n",
       "│ 3        ┆ C#CC[C@@H](CC ┆ C#CCOc1ccc(CN ┆ Br.NCc1cccc(B ┆ C#CCOc1ccc(CN ┆ false ┆ false ┆ false │\n",
       "│          ┆ (=O)O)NC(=O)O ┆ )cc1.Cl       ┆ r)n1          ┆ c2nc(NCc3cccc ┆       ┆       ┆       │\n",
       "│          ┆ CC1c2c…       ┆               ┆               ┆ (Br)n3…       ┆       ┆       ┆       │\n",
       "│ 6        ┆ C#CC[C@@H](CC ┆ C#CCOc1ccc(CN ┆ C#CCOc1ccc(CN ┆ C#CCOc1ccc(CN ┆ false ┆ false ┆ false │\n",
       "│          ┆ (=O)O)NC(=O)O ┆ )cc1.Cl       ┆ )cc1.Cl       ┆ c2nc(NCc3ccc( ┆       ┆       ┆       │\n",
       "│          ┆ CC1c2c…       ┆               ┆               ┆ OCC#C)…       ┆       ┆       ┆       │\n",
       "│ 9        ┆ C#CC[C@@H](CC ┆ C#CCOc1ccc(CN ┆ C=C(C)C(=O)NC ┆ C#CCOc1ccc(CN ┆ false ┆ false ┆ false │\n",
       "│          ┆ (=O)O)NC(=O)O ┆ )cc1.Cl       ┆ CN.Cl         ┆ c2nc(NCCNC(=O ┆       ┆       ┆       │\n",
       "│          ┆ CC1c2c…       ┆               ┆               ┆ )C(=C)…       ┆       ┆       ┆       │\n",
       "│ 12       ┆ C#CC[C@@H](CC ┆ C#CCOc1ccc(CN ┆ C=CCNC(=O)CN. ┆ C#CCOc1ccc(CN ┆ false ┆ false ┆ false │\n",
       "│          ┆ (=O)O)NC(=O)O ┆ )cc1.Cl       ┆ Cl            ┆ c2nc(NCC(=O)N ┆       ┆       ┆       │\n",
       "│          ┆ CC1c2c…       ┆               ┆               ┆ CC=C)n…       ┆       ┆       ┆       │\n",
       "│ …        ┆ …             ┆ …             ┆ …             ┆ …             ┆ …     ┆ …     ┆ …     │\n",
       "│ 29999985 ┆ COc1cc(C(=O)O ┆ Cl.NCCC1CC1   ┆ Cl.NCc1nc(-c2 ┆ COc1cc(C(=O)N ┆ false ┆ false ┆ false │\n",
       "│          ┆ )c(N)cc1NC(=O ┆               ┆ ccco2)n[nH]1  ┆ [Dy])c(N)cc1N ┆       ┆       ┆       │\n",
       "│          ┆ )OCC1c…       ┆               ┆               ┆ c1nc(N…       ┆       ┆       ┆       │\n",
       "│ 29999988 ┆ COc1cc(C(=O)O ┆ Cl.NCCC1CC1   ┆ Cl.NCc1nc2cc( ┆ COc1cc(C(=O)N ┆ false ┆ false ┆ false │\n",
       "│          ┆ )c(N)cc1NC(=O ┆               ┆ F)ccc2o1      ┆ [Dy])c(N)cc1N ┆       ┆       ┆       │\n",
       "│          ┆ )OCC1c…       ┆               ┆               ┆ c1nc(N…       ┆       ┆       ┆       │\n",
       "│ 29999991 ┆ COc1cc(C(=O)O ┆ Cl.NCCC1CC1   ┆ Cl.NCc1nc2ccc ┆ COc1cc(C(=O)N ┆ false ┆ false ┆ false │\n",
       "│          ┆ )c(N)cc1NC(=O ┆               ┆ cc2c(=O)[nH]1 ┆ [Dy])c(N)cc1N ┆       ┆       ┆       │\n",
       "│          ┆ )OCC1c…       ┆               ┆               ┆ c1nc(N…       ┆       ┆       ┆       │\n",
       "│ 29999994 ┆ COc1cc(C(=O)O ┆ Cl.NCCC1CC1   ┆ Cl.NCc1nc2ccc ┆ COc1cc(C(=O)N ┆ false ┆ false ┆ false │\n",
       "│          ┆ )c(N)cc1NC(=O ┆               ┆ cc2o1         ┆ [Dy])c(N)cc1N ┆       ┆       ┆       │\n",
       "│          ┆ )OCC1c…       ┆               ┆               ┆ c1nc(N…       ┆       ┆       ┆       │\n",
       "│ 29999997 ┆ COc1cc(C(=O)O ┆ Cl.NCCC1CC1   ┆ Cl.NCc1ncon1  ┆ COc1cc(C(=O)N ┆ false ┆ false ┆ false │\n",
       "│          ┆ )c(N)cc1NC(=O ┆               ┆               ┆ [Dy])c(N)cc1N ┆       ┆       ┆       │\n",
       "│          ┆ )OCC1c…       ┆               ┆               ┆ c1nc(N…       ┆       ┆       ┆       │\n",
       "└──────────┴───────────────┴───────────────┴───────────────┴───────────────┴───────┴───────┴───────┘"
      ]
     },
     "execution_count": 7,
     "metadata": {},
     "output_type": "execute_result"
    }
   ],
   "source": [
    "df = None\n",
    "for i, protein_name in enumerate([\"BRD4\", \"HSA\", \"sEH\"]):\n",
    "    sub_df = trn_df[i::3]\n",
    "    sub_df = sub_df.rename({\"binds\": protein_name})\n",
    "    if i == 0:\n",
    "        df = sub_df.select(pl.exclude(\"protein_name\"))\n",
    "    else:\n",
    "        df = pl.concat([df, sub_df[[protein_name]]], how=\"horizontal\")\n",
    "df"
   ]
  },
  {
   "cell_type": "code",
   "execution_count": 8,
   "id": "e531a77e-d207-4536-8d65-95a1299352fd",
   "metadata": {},
   "outputs": [
    {
     "data": {
      "text/html": [
       "<div><style>\n",
       ".dataframe > thead > tr,\n",
       ".dataframe > tbody > tr {\n",
       "  text-align: right;\n",
       "  white-space: pre-wrap;\n",
       "}\n",
       "</style>\n",
       "<small>shape: (10_000_000, 8)</small><table border=\"1\" class=\"dataframe\"><thead><tr><th>id</th><th>buildingblock1_smiles</th><th>buildingblock2_smiles</th><th>buildingblock3_smiles</th><th>molecule_smiles</th><th>BRD4</th><th>HSA</th><th>sEH</th></tr><tr><td>i32</td><td>str</td><td>str</td><td>str</td><td>str</td><td>bool</td><td>bool</td><td>bool</td></tr></thead><tbody><tr><td>0</td><td>&quot;C#CC[C@@H](CC(…</td><td>&quot;C#CCOc1ccc(CN)…</td><td>&quot;Br.Br.NCC1CCCN…</td><td>&quot;C#CCOc1ccc(CNc…</td><td>false</td><td>false</td><td>false</td></tr><tr><td>3</td><td>&quot;C#CC[C@@H](CC(…</td><td>&quot;C#CCOc1ccc(CN)…</td><td>&quot;Br.NCc1cccc(Br…</td><td>&quot;C#CCOc1ccc(CNc…</td><td>false</td><td>false</td><td>false</td></tr><tr><td>6</td><td>&quot;C#CC[C@@H](CC(…</td><td>&quot;C#CCOc1ccc(CN)…</td><td>&quot;C#CCOc1ccc(CN)…</td><td>&quot;C#CCOc1ccc(CNc…</td><td>false</td><td>false</td><td>false</td></tr><tr><td>9</td><td>&quot;C#CC[C@@H](CC(…</td><td>&quot;C#CCOc1ccc(CN)…</td><td>&quot;C=C(C)C(=O)NCC…</td><td>&quot;C#CCOc1ccc(CNc…</td><td>false</td><td>false</td><td>false</td></tr><tr><td>12</td><td>&quot;C#CC[C@@H](CC(…</td><td>&quot;C#CCOc1ccc(CN)…</td><td>&quot;C=CCNC(=O)CN.C…</td><td>&quot;C#CCOc1ccc(CNc…</td><td>false</td><td>false</td><td>false</td></tr><tr><td>&hellip;</td><td>&hellip;</td><td>&hellip;</td><td>&hellip;</td><td>&hellip;</td><td>&hellip;</td><td>&hellip;</td><td>&hellip;</td></tr><tr><td>29999985</td><td>&quot;COc1cc(C(=O)O)…</td><td>&quot;Cl.NCCC1CC1&quot;</td><td>&quot;Cl.NCc1nc(-c2c…</td><td>&quot;COc1cc(C(=O)N[…</td><td>false</td><td>false</td><td>false</td></tr><tr><td>29999988</td><td>&quot;COc1cc(C(=O)O)…</td><td>&quot;Cl.NCCC1CC1&quot;</td><td>&quot;Cl.NCc1nc2cc(F…</td><td>&quot;COc1cc(C(=O)N[…</td><td>false</td><td>false</td><td>false</td></tr><tr><td>29999991</td><td>&quot;COc1cc(C(=O)O)…</td><td>&quot;Cl.NCCC1CC1&quot;</td><td>&quot;Cl.NCc1nc2cccc…</td><td>&quot;COc1cc(C(=O)N[…</td><td>false</td><td>false</td><td>false</td></tr><tr><td>29999994</td><td>&quot;COc1cc(C(=O)O)…</td><td>&quot;Cl.NCCC1CC1&quot;</td><td>&quot;Cl.NCc1nc2cccc…</td><td>&quot;COc1cc(C(=O)N[…</td><td>false</td><td>false</td><td>false</td></tr><tr><td>29999997</td><td>&quot;COc1cc(C(=O)O)…</td><td>&quot;Cl.NCCC1CC1&quot;</td><td>&quot;Cl.NCc1ncon1&quot;</td><td>&quot;COc1cc(C(=O)N[…</td><td>false</td><td>false</td><td>false</td></tr></tbody></table></div>"
      ],
      "text/plain": [
       "shape: (10_000_000, 8)\n",
       "┌──────────┬───────────────┬───────────────┬───────────────┬───────────────┬───────┬───────┬───────┐\n",
       "│ id       ┆ buildingblock ┆ buildingblock ┆ buildingblock ┆ molecule_smil ┆ BRD4  ┆ HSA   ┆ sEH   │\n",
       "│ ---      ┆ 1_smiles      ┆ 2_smiles      ┆ 3_smiles      ┆ es            ┆ ---   ┆ ---   ┆ ---   │\n",
       "│ i32      ┆ ---           ┆ ---           ┆ ---           ┆ ---           ┆ bool  ┆ bool  ┆ bool  │\n",
       "│          ┆ str           ┆ str           ┆ str           ┆ str           ┆       ┆       ┆       │\n",
       "╞══════════╪═══════════════╪═══════════════╪═══════════════╪═══════════════╪═══════╪═══════╪═══════╡\n",
       "│ 0        ┆ C#CC[C@@H](CC ┆ C#CCOc1ccc(CN ┆ Br.Br.NCC1CCC ┆ C#CCOc1ccc(CN ┆ false ┆ false ┆ false │\n",
       "│          ┆ (=O)O)NC(=O)O ┆ )cc1.Cl       ┆ N1c1cccnn1    ┆ c2nc(NCC3CCCN ┆       ┆       ┆       │\n",
       "│          ┆ CC1c2c…       ┆               ┆               ┆ 3c3ccc…       ┆       ┆       ┆       │\n",
       "│ 3        ┆ C#CC[C@@H](CC ┆ C#CCOc1ccc(CN ┆ Br.NCc1cccc(B ┆ C#CCOc1ccc(CN ┆ false ┆ false ┆ false │\n",
       "│          ┆ (=O)O)NC(=O)O ┆ )cc1.Cl       ┆ r)n1          ┆ c2nc(NCc3cccc ┆       ┆       ┆       │\n",
       "│          ┆ CC1c2c…       ┆               ┆               ┆ (Br)n3…       ┆       ┆       ┆       │\n",
       "│ 6        ┆ C#CC[C@@H](CC ┆ C#CCOc1ccc(CN ┆ C#CCOc1ccc(CN ┆ C#CCOc1ccc(CN ┆ false ┆ false ┆ false │\n",
       "│          ┆ (=O)O)NC(=O)O ┆ )cc1.Cl       ┆ )cc1.Cl       ┆ c2nc(NCc3ccc( ┆       ┆       ┆       │\n",
       "│          ┆ CC1c2c…       ┆               ┆               ┆ OCC#C)…       ┆       ┆       ┆       │\n",
       "│ 9        ┆ C#CC[C@@H](CC ┆ C#CCOc1ccc(CN ┆ C=C(C)C(=O)NC ┆ C#CCOc1ccc(CN ┆ false ┆ false ┆ false │\n",
       "│          ┆ (=O)O)NC(=O)O ┆ )cc1.Cl       ┆ CN.Cl         ┆ c2nc(NCCNC(=O ┆       ┆       ┆       │\n",
       "│          ┆ CC1c2c…       ┆               ┆               ┆ )C(=C)…       ┆       ┆       ┆       │\n",
       "│ 12       ┆ C#CC[C@@H](CC ┆ C#CCOc1ccc(CN ┆ C=CCNC(=O)CN. ┆ C#CCOc1ccc(CN ┆ false ┆ false ┆ false │\n",
       "│          ┆ (=O)O)NC(=O)O ┆ )cc1.Cl       ┆ Cl            ┆ c2nc(NCC(=O)N ┆       ┆       ┆       │\n",
       "│          ┆ CC1c2c…       ┆               ┆               ┆ CC=C)n…       ┆       ┆       ┆       │\n",
       "│ …        ┆ …             ┆ …             ┆ …             ┆ …             ┆ …     ┆ …     ┆ …     │\n",
       "│ 29999985 ┆ COc1cc(C(=O)O ┆ Cl.NCCC1CC1   ┆ Cl.NCc1nc(-c2 ┆ COc1cc(C(=O)N ┆ false ┆ false ┆ false │\n",
       "│          ┆ )c(N)cc1NC(=O ┆               ┆ ccco2)n[nH]1  ┆ [Dy])c(N)cc1N ┆       ┆       ┆       │\n",
       "│          ┆ )OCC1c…       ┆               ┆               ┆ c1nc(N…       ┆       ┆       ┆       │\n",
       "│ 29999988 ┆ COc1cc(C(=O)O ┆ Cl.NCCC1CC1   ┆ Cl.NCc1nc2cc( ┆ COc1cc(C(=O)N ┆ false ┆ false ┆ false │\n",
       "│          ┆ )c(N)cc1NC(=O ┆               ┆ F)ccc2o1      ┆ [Dy])c(N)cc1N ┆       ┆       ┆       │\n",
       "│          ┆ )OCC1c…       ┆               ┆               ┆ c1nc(N…       ┆       ┆       ┆       │\n",
       "│ 29999991 ┆ COc1cc(C(=O)O ┆ Cl.NCCC1CC1   ┆ Cl.NCc1nc2ccc ┆ COc1cc(C(=O)N ┆ false ┆ false ┆ false │\n",
       "│          ┆ )c(N)cc1NC(=O ┆               ┆ cc2c(=O)[nH]1 ┆ [Dy])c(N)cc1N ┆       ┆       ┆       │\n",
       "│          ┆ )OCC1c…       ┆               ┆               ┆ c1nc(N…       ┆       ┆       ┆       │\n",
       "│ 29999994 ┆ COc1cc(C(=O)O ┆ Cl.NCCC1CC1   ┆ Cl.NCc1nc2ccc ┆ COc1cc(C(=O)N ┆ false ┆ false ┆ false │\n",
       "│          ┆ )c(N)cc1NC(=O ┆               ┆ cc2o1         ┆ [Dy])c(N)cc1N ┆       ┆       ┆       │\n",
       "│          ┆ )OCC1c…       ┆               ┆               ┆ c1nc(N…       ┆       ┆       ┆       │\n",
       "│ 29999997 ┆ COc1cc(C(=O)O ┆ Cl.NCCC1CC1   ┆ Cl.NCc1ncon1  ┆ COc1cc(C(=O)N ┆ false ┆ false ┆ false │\n",
       "│          ┆ )c(N)cc1NC(=O ┆               ┆               ┆ [Dy])c(N)cc1N ┆       ┆       ┆       │\n",
       "│          ┆ )OCC1c…       ┆               ┆               ┆ c1nc(N…       ┆       ┆       ┆       │\n",
       "└──────────┴───────────────┴───────────────┴───────────────┴───────────────┴───────┴───────┴───────┘"
      ]
     },
     "execution_count": 8,
     "metadata": {},
     "output_type": "execute_result"
    }
   ],
   "source": [
    "df"
   ]
  },
  {
   "cell_type": "code",
   "execution_count": 9,
   "id": "c2c22d3f-56ef-461c-9f4c-9f55c3b9fffb",
   "metadata": {},
   "outputs": [],
   "source": [
    "for i in range(0, 100, 3):\n",
    "    x = trn_df[\"molecule_smiles\", i: i+3].to_list()\n",
    "    assert x[0] == x[1] and x[1] == x[2]"
   ]
  },
  {
   "cell_type": "code",
   "execution_count": 10,
   "id": "233b3a70-6c0d-4b69-bf71-1b544d7b12a8",
   "metadata": {},
   "outputs": [
    {
     "data": {
      "text/html": [
       "<div><style>\n",
       ".dataframe > thead > tr,\n",
       ".dataframe > tbody > tr {\n",
       "  text-align: right;\n",
       "  white-space: pre-wrap;\n",
       "}\n",
       "</style>\n",
       "<small>shape: (2, 2)</small><table border=\"1\" class=\"dataframe\"><thead><tr><th>binds</th><th>count</th></tr><tr><td>bool</td><td>f64</td></tr></thead><tbody><tr><td>false</td><td>99.42249</td></tr><tr><td>true</td><td>0.57751</td></tr></tbody></table></div>"
      ],
      "text/plain": [
       "shape: (2, 2)\n",
       "┌───────┬──────────┐\n",
       "│ binds ┆ count    │\n",
       "│ ---   ┆ ---      │\n",
       "│ bool  ┆ f64      │\n",
       "╞═══════╪══════════╡\n",
       "│ false ┆ 99.42249 │\n",
       "│ true  ┆ 0.57751  │\n",
       "└───────┴──────────┘"
      ]
     },
     "execution_count": 10,
     "metadata": {},
     "output_type": "execute_result"
    }
   ],
   "source": [
    "trn_df[\"binds\"].value_counts().sort(\"binds\").with_columns(pl.col(\"count\") / len(trn_df) * 100)"
   ]
  },
  {
   "cell_type": "code",
   "execution_count": 11,
   "id": "819a5711-7b68-443b-8c04-1774af957e20",
   "metadata": {},
   "outputs": [
    {
     "data": {
      "text/html": [
       "<div><style>\n",
       ".dataframe > thead > tr,\n",
       ".dataframe > tbody > tr {\n",
       "  text-align: right;\n",
       "  white-space: pre-wrap;\n",
       "}\n",
       "</style>\n",
       "<small>shape: (28, 2)</small><table border=\"1\" class=\"dataframe\"><thead><tr><th>buildingblock1_smiles</th><th>count</th></tr><tr><td>str</td><td>u32</td></tr></thead><tbody><tr><td>&quot;COc1cc(C(=O)O)…</td><td>587655</td></tr><tr><td>&quot;C=CC[C@@H](NC(…</td><td>1089030</td></tr><tr><td>&quot;C#CC[C@@H](NC(…</td><td>1089060</td></tr><tr><td>&quot;CC(C)(C)OC(=O)…</td><td>1089069</td></tr><tr><td>&quot;C=CCC[C@@H](NC…</td><td>1089093</td></tr><tr><td>&hellip;</td><td>&hellip;</td></tr><tr><td>&quot;COc1c(F)ccc(C(…</td><td>1089729</td></tr><tr><td>&quot;CCS(=O)(=O)c1c…</td><td>1089732</td></tr><tr><td>&quot;CC(C)(C)OC(=O)…</td><td>1089762</td></tr><tr><td>&quot;CC(=O)c1ccc(C[…</td><td>1089858</td></tr><tr><td>&quot;CC(C)(C)OC(=O)…</td><td>1090029</td></tr></tbody></table></div>"
      ],
      "text/plain": [
       "shape: (28, 2)\n",
       "┌───────────────────────────────────┬─────────┐\n",
       "│ buildingblock1_smiles             ┆ count   │\n",
       "│ ---                               ┆ ---     │\n",
       "│ str                               ┆ u32     │\n",
       "╞═══════════════════════════════════╪═════════╡\n",
       "│ COc1cc(C(=O)O)c(N)cc1NC(=O)OCC1c… ┆ 587655  │\n",
       "│ C=CC[C@@H](NC(=O)OCC1c2ccccc2-c2… ┆ 1089030 │\n",
       "│ C#CC[C@@H](NC(=O)OCC1c2ccccc2-c2… ┆ 1089060 │\n",
       "│ CC(C)(C)OC(=O)CC(NC(=O)OCC1c2ccc… ┆ 1089069 │\n",
       "│ C=CCC[C@@H](NC(=O)OCC1c2ccccc2-c… ┆ 1089093 │\n",
       "│ …                                 ┆ …       │\n",
       "│ COc1c(F)ccc(C(=O)O)c1NC(=O)OCC1c… ┆ 1089729 │\n",
       "│ CCS(=O)(=O)c1cc(C(=O)O)c(OC)cc1N… ┆ 1089732 │\n",
       "│ CC(C)(C)OC(=O)N1C[C@@H](NC(=O)OC… ┆ 1089762 │\n",
       "│ CC(=O)c1ccc(C[C@H](NC(=O)OCC2c3c… ┆ 1089858 │\n",
       "│ CC(C)(C)OC(=O)N1CCN(C(=O)OCC2c3c… ┆ 1090029 │\n",
       "└───────────────────────────────────┴─────────┘"
      ]
     },
     "execution_count": 11,
     "metadata": {},
     "output_type": "execute_result"
    }
   ],
   "source": [
    "trn_df[\"buildingblock1_smiles\"].value_counts().sort(\"count\")"
   ]
  },
  {
   "cell_type": "code",
   "execution_count": 12,
   "id": "6e1e5bd6-faf2-4b84-be03-a0f5b1f40dae",
   "metadata": {},
   "outputs": [
    {
     "data": {
      "text/html": [
       "<div><style>\n",
       ".dataframe > thead > tr,\n",
       ".dataframe > tbody > tr {\n",
       "  text-align: right;\n",
       "  white-space: pre-wrap;\n",
       "}\n",
       "</style>\n",
       "<small>shape: (693, 2)</small><table border=\"1\" class=\"dataframe\"><thead><tr><th>buildingblock2_smiles</th><th>count</th></tr><tr><td>str</td><td>u32</td></tr></thead><tbody><tr><td>&quot;Cl.Nc1ccc2cccn…</td><td>14586</td></tr><tr><td>&quot;Cl.NCc1ccc[nH]…</td><td>14643</td></tr><tr><td>&quot;Nc1cncc(F)c1&quot;</td><td>14661</td></tr><tr><td>&quot;Nc1ccc2nsnc2c1…</td><td>14964</td></tr><tr><td>&quot;Cl.NCc1ccsc1C(…</td><td>15012</td></tr><tr><td>&hellip;</td><td>&hellip;</td></tr><tr><td>&quot;Cc1cc(N)on1&quot;</td><td>71937</td></tr><tr><td>&quot;Cl.NCC1Cc2cccc…</td><td>72189</td></tr><tr><td>&quot;Cl.Cl.NCC1CCNC…</td><td>72483</td></tr><tr><td>&quot;Cl.N#CC1(NC(=O…</td><td>72570</td></tr><tr><td>&quot;CC1(CCCCN)OCCO…</td><td>72780</td></tr></tbody></table></div>"
      ],
      "text/plain": [
       "shape: (693, 2)\n",
       "┌───────────────────────┬───────┐\n",
       "│ buildingblock2_smiles ┆ count │\n",
       "│ ---                   ┆ ---   │\n",
       "│ str                   ┆ u32   │\n",
       "╞═══════════════════════╪═══════╡\n",
       "│ Cl.Nc1ccc2cccnc2c1    ┆ 14586 │\n",
       "│ Cl.NCc1ccc[nH]1       ┆ 14643 │\n",
       "│ Nc1cncc(F)c1          ┆ 14661 │\n",
       "│ Nc1ccc2nsnc2c1        ┆ 14964 │\n",
       "│ Cl.NCc1ccsc1C(F)(F)F  ┆ 15012 │\n",
       "│ …                     ┆ …     │\n",
       "│ Cc1cc(N)on1           ┆ 71937 │\n",
       "│ Cl.NCC1Cc2ccccc2C1    ┆ 72189 │\n",
       "│ Cl.Cl.NCC1CCNC(=O)C1  ┆ 72483 │\n",
       "│ Cl.N#CC1(NC(=O)CN)CC1 ┆ 72570 │\n",
       "│ CC1(CCCCN)OCCO1       ┆ 72780 │\n",
       "└───────────────────────┴───────┘"
      ]
     },
     "execution_count": 12,
     "metadata": {},
     "output_type": "execute_result"
    }
   ],
   "source": [
    "trn_df[\"buildingblock2_smiles\"].value_counts().sort(\"count\")"
   ]
  },
  {
   "cell_type": "code",
   "execution_count": 13,
   "id": "cdfefdb1-1f43-479d-899c-4203dd1c11bc",
   "metadata": {},
   "outputs": [
    {
     "data": {
      "text/html": [
       "<div><style>\n",
       ".dataframe > thead > tr,\n",
       ".dataframe > tbody > tr {\n",
       "  text-align: right;\n",
       "  white-space: pre-wrap;\n",
       "}\n",
       "</style>\n",
       "<small>shape: (872, 2)</small><table border=\"1\" class=\"dataframe\"><thead><tr><th>buildingblock3_smiles</th><th>count</th></tr><tr><td>str</td><td>u32</td></tr></thead><tbody><tr><td>&quot;NCc1ccccn1&quot;</td><td>81</td></tr><tr><td>&quot;CC1(CCCCN)OCCO…</td><td>165</td></tr><tr><td>&quot;Cl.NCc1cnc2n1C…</td><td>192</td></tr><tr><td>&quot;Nc1nc(-c2ccc(F…</td><td>309</td></tr><tr><td>&quot;NCc1c(F)cccc1N…</td><td>408</td></tr><tr><td>&hellip;</td><td>&hellip;</td></tr><tr><td>&quot;COc1nc(C)ccc1C…</td><td>57165</td></tr><tr><td>&quot;Cc1cc(CN)c(C)[…</td><td>57165</td></tr><tr><td>&quot;COc1cc(CN)sn1.…</td><td>57168</td></tr><tr><td>&quot;COC(=O)c1sc(-c…</td><td>57171</td></tr><tr><td>&quot;NCc1nc2c(s1)CC…</td><td>57174</td></tr></tbody></table></div>"
      ],
      "text/plain": [
       "shape: (872, 2)\n",
       "┌────────────────────────────────┬───────┐\n",
       "│ buildingblock3_smiles          ┆ count │\n",
       "│ ---                            ┆ ---   │\n",
       "│ str                            ┆ u32   │\n",
       "╞════════════════════════════════╪═══════╡\n",
       "│ NCc1ccccn1                     ┆ 81    │\n",
       "│ CC1(CCCCN)OCCO1                ┆ 165   │\n",
       "│ Cl.NCc1cnc2n1CCOC2             ┆ 192   │\n",
       "│ Nc1nc(-c2ccc(F)cc2)cs1         ┆ 309   │\n",
       "│ NCc1c(F)cccc1N1CCCC1           ┆ 408   │\n",
       "│ …                              ┆ …     │\n",
       "│ COc1nc(C)ccc1CN                ┆ 57165 │\n",
       "│ Cc1cc(CN)c(C)[nH]1             ┆ 57165 │\n",
       "│ COc1cc(CN)sn1.Cl.Cl            ┆ 57168 │\n",
       "│ COC(=O)c1sc(-c2ccc(Cl)cc2)cc1N ┆ 57171 │\n",
       "│ NCc1nc2c(s1)CCCC2              ┆ 57174 │\n",
       "└────────────────────────────────┴───────┘"
      ]
     },
     "execution_count": 13,
     "metadata": {},
     "output_type": "execute_result"
    }
   ],
   "source": [
    "trn_df[\"buildingblock3_smiles\"].value_counts().sort(\"count\")"
   ]
  },
  {
   "cell_type": "code",
   "execution_count": 14,
   "id": "ce60900e-46e8-40e4-b32b-77581af6a551",
   "metadata": {},
   "outputs": [
    {
     "data": {
      "text/html": [
       "<div><style>\n",
       ".dataframe > thead > tr,\n",
       ".dataframe > tbody > tr {\n",
       "  text-align: right;\n",
       "  white-space: pre-wrap;\n",
       "}\n",
       "</style>\n",
       "<small>shape: (10_000_000, 2)</small><table border=\"1\" class=\"dataframe\"><thead><tr><th>molecule_smiles</th><th>count</th></tr><tr><td>str</td><td>u32</td></tr></thead><tbody><tr><td>&quot;C#CCOc1ccc(CNc…</td><td>3</td></tr><tr><td>&quot;C#CCOc1ccc(CNc…</td><td>3</td></tr><tr><td>&quot;C#CCOc1ccc(CNc…</td><td>3</td></tr><tr><td>&quot;C#CCOc1ccc(CNc…</td><td>3</td></tr><tr><td>&quot;C#CCOc1ccc(CNc…</td><td>3</td></tr><tr><td>&hellip;</td><td>&hellip;</td></tr><tr><td>&quot;Cn1nnc(Nc2nc(N…</td><td>3</td></tr><tr><td>&quot;Cn1nnc(Nc2nc(N…</td><td>3</td></tr><tr><td>&quot;Cn1nnc(Nc2nc(N…</td><td>3</td></tr><tr><td>&quot;Cn1nnc(Nc2nc(N…</td><td>3</td></tr><tr><td>&quot;Cn1nnc(Nc2nc(N…</td><td>3</td></tr></tbody></table></div>"
      ],
      "text/plain": [
       "shape: (10_000_000, 2)\n",
       "┌───────────────────────────────────┬───────┐\n",
       "│ molecule_smiles                   ┆ count │\n",
       "│ ---                               ┆ ---   │\n",
       "│ str                               ┆ u32   │\n",
       "╞═══════════════════════════════════╪═══════╡\n",
       "│ C#CCOc1ccc(CNc2nc(NC(=N)CCCN)nc(… ┆ 3     │\n",
       "│ C#CCOc1ccc(CNc2nc(NC(=N)CCCN)nc(… ┆ 3     │\n",
       "│ C#CCOc1ccc(CNc2nc(NC(=N)CCCN)nc(… ┆ 3     │\n",
       "│ C#CCOc1ccc(CNc2nc(NC(=N)CCCN)nc(… ┆ 3     │\n",
       "│ C#CCOc1ccc(CNc2nc(NC(=N)CCCN)nc(… ┆ 3     │\n",
       "│ …                                 ┆ …     │\n",
       "│ Cn1nnc(Nc2nc(Nc3sc4c(c3C#N)CCCC4… ┆ 3     │\n",
       "│ Cn1nnc(Nc2nc(Nc3sc4c(c3C#N)CCCC4… ┆ 3     │\n",
       "│ Cn1nnc(Nc2nc(Nc3sc4c(c3C#N)CCCC4… ┆ 3     │\n",
       "│ Cn1nnc(Nc2nc(Nc3sc4c(c3C#N)CCCC4… ┆ 3     │\n",
       "│ Cn1nnc(Nc2nc(Nc3sc4c(c3C#N)CCCC4… ┆ 3     │\n",
       "└───────────────────────────────────┴───────┘"
      ]
     },
     "execution_count": 14,
     "metadata": {},
     "output_type": "execute_result"
    }
   ],
   "source": [
    "trn_df[\"molecule_smiles\"].value_counts().sort(\"molecule_smiles\")"
   ]
  },
  {
   "cell_type": "code",
   "execution_count": 15,
   "id": "72778d72-963e-4802-afd3-7a48d668ce2d",
   "metadata": {},
   "outputs": [
    {
     "data": {
      "text/html": [
       "<div><style>\n",
       ".dataframe > thead > tr,\n",
       ".dataframe > tbody > tr {\n",
       "  text-align: right;\n",
       "  white-space: pre-wrap;\n",
       "}\n",
       "</style>\n",
       "<small>shape: (3, 2)</small><table border=\"1\" class=\"dataframe\"><thead><tr><th>protein_name</th><th>count</th></tr><tr><td>str</td><td>u32</td></tr></thead><tbody><tr><td>&quot;BRD4&quot;</td><td>10000000</td></tr><tr><td>&quot;HSA&quot;</td><td>10000000</td></tr><tr><td>&quot;sEH&quot;</td><td>10000000</td></tr></tbody></table></div>"
      ],
      "text/plain": [
       "shape: (3, 2)\n",
       "┌──────────────┬──────────┐\n",
       "│ protein_name ┆ count    │\n",
       "│ ---          ┆ ---      │\n",
       "│ str          ┆ u32      │\n",
       "╞══════════════╪══════════╡\n",
       "│ BRD4         ┆ 10000000 │\n",
       "│ HSA          ┆ 10000000 │\n",
       "│ sEH          ┆ 10000000 │\n",
       "└──────────────┴──────────┘"
      ]
     },
     "execution_count": 15,
     "metadata": {},
     "output_type": "execute_result"
    }
   ],
   "source": [
    "trn_df[\"protein_name\"].value_counts().sort(\"protein_name\")"
   ]
  },
  {
   "cell_type": "markdown",
   "id": "3e9749bb-4330-4bfc-bc20-61a7959a4908",
   "metadata": {},
   "source": [
    "## テストデータ"
   ]
  },
  {
   "cell_type": "code",
   "execution_count": 16,
   "id": "11b76dcc-4528-47a7-9624-8fb743f0748c",
   "metadata": {},
   "outputs": [
    {
     "data": {
      "text/plain": [
       "(1674896, 6)"
      ]
     },
     "execution_count": 16,
     "metadata": {},
     "output_type": "execute_result"
    }
   ],
   "source": [
    "test_df = pl.read_parquet(\"../../data/lb/test.parquet\")\n",
    "test_df.shape"
   ]
  },
  {
   "cell_type": "code",
   "execution_count": 17,
   "id": "ada03b4f-6bd8-4f69-9fb4-3c00377d772e",
   "metadata": {},
   "outputs": [
    {
     "data": {
      "text/html": [
       "<div><style>\n",
       ".dataframe > thead > tr,\n",
       ".dataframe > tbody > tr {\n",
       "  text-align: right;\n",
       "  white-space: pre-wrap;\n",
       "}\n",
       "</style>\n",
       "<small>shape: (5, 6)</small><table border=\"1\" class=\"dataframe\"><thead><tr><th>id</th><th>buildingblock1_smiles</th><th>buildingblock2_smiles</th><th>buildingblock3_smiles</th><th>molecule_smiles</th><th>protein_name</th></tr><tr><td>i64</td><td>str</td><td>str</td><td>str</td><td>str</td><td>str</td></tr></thead><tbody><tr><td>295246830</td><td>&quot;C#CCCC[C@H](NC…</td><td>&quot;C=Cc1ccc(N)cc1…</td><td>&quot;C=Cc1ccc(N)cc1…</td><td>&quot;C#CCCC[C@H](Nc…</td><td>&quot;BRD4&quot;</td></tr><tr><td>295246831</td><td>&quot;C#CCCC[C@H](NC…</td><td>&quot;C=Cc1ccc(N)cc1…</td><td>&quot;C=Cc1ccc(N)cc1…</td><td>&quot;C#CCCC[C@H](Nc…</td><td>&quot;HSA&quot;</td></tr><tr><td>295246832</td><td>&quot;C#CCCC[C@H](NC…</td><td>&quot;C=Cc1ccc(N)cc1…</td><td>&quot;C=Cc1ccc(N)cc1…</td><td>&quot;C#CCCC[C@H](Nc…</td><td>&quot;sEH&quot;</td></tr><tr><td>295246833</td><td>&quot;C#CCCC[C@H](NC…</td><td>&quot;C=Cc1ccc(N)cc1…</td><td>&quot;CC(O)Cn1cnc2c(…</td><td>&quot;C#CCCC[C@H](Nc…</td><td>&quot;BRD4&quot;</td></tr><tr><td>295246834</td><td>&quot;C#CCCC[C@H](NC…</td><td>&quot;C=Cc1ccc(N)cc1…</td><td>&quot;CC(O)Cn1cnc2c(…</td><td>&quot;C#CCCC[C@H](Nc…</td><td>&quot;HSA&quot;</td></tr></tbody></table></div>"
      ],
      "text/plain": [
       "shape: (5, 6)\n",
       "┌───────────┬─────────────────┬─────────────────┬─────────────────┬─────────────────┬──────────────┐\n",
       "│ id        ┆ buildingblock1_ ┆ buildingblock2_ ┆ buildingblock3_ ┆ molecule_smiles ┆ protein_name │\n",
       "│ ---       ┆ smiles          ┆ smiles          ┆ smiles          ┆ ---             ┆ ---          │\n",
       "│ i64       ┆ ---             ┆ ---             ┆ ---             ┆ str             ┆ str          │\n",
       "│           ┆ str             ┆ str             ┆ str             ┆                 ┆              │\n",
       "╞═══════════╪═════════════════╪═════════════════╪═════════════════╪═════════════════╪══════════════╡\n",
       "│ 295246830 ┆ C#CCCC[C@H](NC( ┆ C=Cc1ccc(N)cc1  ┆ C=Cc1ccc(N)cc1  ┆ C#CCCC[C@H](Nc1 ┆ BRD4         │\n",
       "│           ┆ =O)OCC1c2ccccc2 ┆                 ┆                 ┆ nc(Nc2ccc(C=C)c ┆              │\n",
       "│           ┆ -c…             ┆                 ┆                 ┆ c2…             ┆              │\n",
       "│ 295246831 ┆ C#CCCC[C@H](NC( ┆ C=Cc1ccc(N)cc1  ┆ C=Cc1ccc(N)cc1  ┆ C#CCCC[C@H](Nc1 ┆ HSA          │\n",
       "│           ┆ =O)OCC1c2ccccc2 ┆                 ┆                 ┆ nc(Nc2ccc(C=C)c ┆              │\n",
       "│           ┆ -c…             ┆                 ┆                 ┆ c2…             ┆              │\n",
       "│ 295246832 ┆ C#CCCC[C@H](NC( ┆ C=Cc1ccc(N)cc1  ┆ C=Cc1ccc(N)cc1  ┆ C#CCCC[C@H](Nc1 ┆ sEH          │\n",
       "│           ┆ =O)OCC1c2ccccc2 ┆                 ┆                 ┆ nc(Nc2ccc(C=C)c ┆              │\n",
       "│           ┆ -c…             ┆                 ┆                 ┆ c2…             ┆              │\n",
       "│ 295246833 ┆ C#CCCC[C@H](NC( ┆ C=Cc1ccc(N)cc1  ┆ CC(O)Cn1cnc2c(N ┆ C#CCCC[C@H](Nc1 ┆ BRD4         │\n",
       "│           ┆ =O)OCC1c2ccccc2 ┆                 ┆ )ncnc21         ┆ nc(Nc2ccc(C=C)c ┆              │\n",
       "│           ┆ -c…             ┆                 ┆                 ┆ c2…             ┆              │\n",
       "│ 295246834 ┆ C#CCCC[C@H](NC( ┆ C=Cc1ccc(N)cc1  ┆ CC(O)Cn1cnc2c(N ┆ C#CCCC[C@H](Nc1 ┆ HSA          │\n",
       "│           ┆ =O)OCC1c2ccccc2 ┆                 ┆ )ncnc21         ┆ nc(Nc2ccc(C=C)c ┆              │\n",
       "│           ┆ -c…             ┆                 ┆                 ┆ c2…             ┆              │\n",
       "└───────────┴─────────────────┴─────────────────┴─────────────────┴─────────────────┴──────────────┘"
      ]
     },
     "execution_count": 17,
     "metadata": {},
     "output_type": "execute_result"
    }
   ],
   "source": [
    "test_df.head()"
   ]
  },
  {
   "cell_type": "code",
   "execution_count": 18,
   "id": "5cde0ffc-2259-4df6-b6cf-b9311e690317",
   "metadata": {},
   "outputs": [
    {
     "data": {
      "text/html": [
       "<div><style>\n",
       ".dataframe > thead > tr,\n",
       ".dataframe > tbody > tr {\n",
       "  text-align: right;\n",
       "  white-space: pre-wrap;\n",
       "}\n",
       "</style>\n",
       "<small>shape: (341, 2)</small><table border=\"1\" class=\"dataframe\"><thead><tr><th>buildingblock1_smiles</th><th>count</th></tr><tr><td>str</td><td>u32</td></tr></thead><tbody><tr><td>&quot;COc1cc(C(=O)O)…</td><td>1989</td></tr><tr><td>&quot;O=C(O)C[C@@H](…</td><td>1989</td></tr><tr><td>&quot;O=C(Nc1ccc(C(=…</td><td>1989</td></tr><tr><td>&quot;O=C(Nc1nccnc1C…</td><td>1989</td></tr><tr><td>&quot;O=C(O)C[C@H](C…</td><td>1989</td></tr><tr><td>&hellip;</td><td>&hellip;</td></tr><tr><td>&quot;O=C(O)[C@@H]1C…</td><td>14004</td></tr><tr><td>&quot;O=C(O)[C@@H]1C…</td><td>14039</td></tr><tr><td>&quot;CC(C)(C)OC(=O)…</td><td>14041</td></tr><tr><td>&quot;O=C(NC1CN(c2cc…</td><td>14064</td></tr><tr><td>&quot;O=C(N[C@@H]1CC…</td><td>14098</td></tr></tbody></table></div>"
      ],
      "text/plain": [
       "shape: (341, 2)\n",
       "┌───────────────────────────────────┬───────┐\n",
       "│ buildingblock1_smiles             ┆ count │\n",
       "│ ---                               ┆ ---   │\n",
       "│ str                               ┆ u32   │\n",
       "╞═══════════════════════════════════╪═══════╡\n",
       "│ COc1cc(C(=O)O)ccc1NC(=O)OCC1c2cc… ┆ 1989  │\n",
       "│ O=C(O)C[C@@H](NC(=O)OCC1c2ccccc2… ┆ 1989  │\n",
       "│ O=C(Nc1ccc(C(=O)O)cc1[N+](=O)[O-… ┆ 1989  │\n",
       "│ O=C(Nc1nccnc1C(=O)O)OCC1c2ccccc2… ┆ 1989  │\n",
       "│ O=C(O)C[C@H](Cc1csc2ccccc12)NC(=… ┆ 1989  │\n",
       "│ …                                 ┆ …     │\n",
       "│ O=C(O)[C@@H]1CN(C(=O)OCC2c3ccccc… ┆ 14004 │\n",
       "│ O=C(O)[C@@H]1C=C(c2ccnc(Br)c2)CN… ┆ 14039 │\n",
       "│ CC(C)(C)OC(=O)N1CCC(C(=O)O)(c2cc… ┆ 14041 │\n",
       "│ O=C(NC1CN(c2cc(C(=O)O)cc(Cl)n2)C… ┆ 14064 │\n",
       "│ O=C(N[C@@H]1CCN(c2cc(C(=O)O)cc(C… ┆ 14098 │\n",
       "└───────────────────────────────────┴───────┘"
      ]
     },
     "execution_count": 18,
     "metadata": {},
     "output_type": "execute_result"
    }
   ],
   "source": [
    "test_df[\"buildingblock1_smiles\"].value_counts().sort(\"count\")"
   ]
  },
  {
   "cell_type": "code",
   "execution_count": 19,
   "id": "1f90ca6f-db1d-4226-a657-ed1094900ff5",
   "metadata": {},
   "outputs": [
    {
     "data": {
      "text/html": [
       "<div><style>\n",
       ".dataframe > thead > tr,\n",
       ".dataframe > tbody > tr {\n",
       "  text-align: right;\n",
       "  white-space: pre-wrap;\n",
       "}\n",
       "</style>\n",
       "<small>shape: (1_140, 2)</small><table border=\"1\" class=\"dataframe\"><thead><tr><th>buildingblock2_smiles</th><th>count</th></tr><tr><td>str</td><td>u32</td></tr></thead><tbody><tr><td>&quot;CN1CCN(c2cccc(…</td><td>51</td></tr><tr><td>&quot;Cl.NC[C@@H]1C[…</td><td>102</td></tr><tr><td>&quot;Cc1ccc(N)cn1&quot;</td><td>153</td></tr><tr><td>&quot;CC1(C)CCCC1(O)…</td><td>153</td></tr><tr><td>&quot;COC(=O)c1cc(Cl…</td><td>204</td></tr><tr><td>&hellip;</td><td>&hellip;</td></tr><tr><td>&quot;Nc1ccc2[nH]c(=…</td><td>7302</td></tr><tr><td>&quot;Nc1nc(-c2cccnc…</td><td>8031</td></tr><tr><td>&quot;CN1C(=O)Cc2cc(…</td><td>10077</td></tr><tr><td>&quot;Nc1cccc2ocnc12…</td><td>10161</td></tr><tr><td>&quot;Nc1nc(NCc2ccc(…</td><td>14637</td></tr></tbody></table></div>"
      ],
      "text/plain": [
       "shape: (1_140, 2)\n",
       "┌───────────────────────────────────┬───────┐\n",
       "│ buildingblock2_smiles             ┆ count │\n",
       "│ ---                               ┆ ---   │\n",
       "│ str                               ┆ u32   │\n",
       "╞═══════════════════════════════════╪═══════╡\n",
       "│ CN1CCN(c2cccc(N)c2)CC1            ┆ 51    │\n",
       "│ Cl.NC[C@@H]1C[C@H]1C1CCC1         ┆ 102   │\n",
       "│ Cc1ccc(N)cn1                      ┆ 153   │\n",
       "│ CC1(C)CCCC1(O)CN                  ┆ 153   │\n",
       "│ COC(=O)c1cc(Cl)sc1N               ┆ 204   │\n",
       "│ …                                 ┆ …     │\n",
       "│ Nc1ccc2[nH]c(=O)[nH]c2c1          ┆ 7302  │\n",
       "│ Nc1nc(-c2cccnc2)cs1               ┆ 8031  │\n",
       "│ CN1C(=O)Cc2cc(CN)ccc21.Cl         ┆ 10077 │\n",
       "│ Nc1cccc2ocnc12                    ┆ 10161 │\n",
       "│ Nc1nc(NCc2ccc(F)cc2)ccc1[N+](=O)… ┆ 14637 │\n",
       "└───────────────────────────────────┴───────┘"
      ]
     },
     "execution_count": 19,
     "metadata": {},
     "output_type": "execute_result"
    }
   ],
   "source": [
    "test_df[\"buildingblock2_smiles\"].value_counts().sort(\"count\")"
   ]
  },
  {
   "cell_type": "code",
   "execution_count": 20,
   "id": "aedcd067-0ca1-42d2-83ef-140a13597be1",
   "metadata": {},
   "outputs": [
    {
     "data": {
      "text/html": [
       "<div><style>\n",
       ".dataframe > thead > tr,\n",
       ".dataframe > tbody > tr {\n",
       "  text-align: right;\n",
       "  white-space: pre-wrap;\n",
       "}\n",
       "</style>\n",
       "<small>shape: (1_389, 2)</small><table border=\"1\" class=\"dataframe\"><thead><tr><th>buildingblock3_smiles</th><th>count</th></tr><tr><td>str</td><td>u32</td></tr></thead><tbody><tr><td>&quot;Nc1cccc2cnccc1…</td><td>3</td></tr><tr><td>&quot;NCc1c(F)cccc1N…</td><td>3</td></tr><tr><td>&quot;Cl.N#CC1(NC(=O…</td><td>6</td></tr><tr><td>&quot;Cl.NCC1Cc2cccc…</td><td>9</td></tr><tr><td>&quot;Cl.Cl.NCc1cnsc…</td><td>15</td></tr><tr><td>&hellip;</td><td>&hellip;</td></tr><tr><td>&quot;Nc1nc(NCc2ccc(…</td><td>6426</td></tr><tr><td>&quot;Nc1ccc2[nH]c(=…</td><td>6714</td></tr><tr><td>&quot;NCC1CN2CCN1CC2…</td><td>8361</td></tr><tr><td>&quot;Cc1nn(C)c2ncc(…</td><td>8481</td></tr><tr><td>&quot;Cl.Cl.NCCc1nnc…</td><td>10323</td></tr></tbody></table></div>"
      ],
      "text/plain": [
       "shape: (1_389, 2)\n",
       "┌───────────────────────────────────┬───────┐\n",
       "│ buildingblock3_smiles             ┆ count │\n",
       "│ ---                               ┆ ---   │\n",
       "│ str                               ┆ u32   │\n",
       "╞═══════════════════════════════════╪═══════╡\n",
       "│ Nc1cccc2cnccc12                   ┆ 3     │\n",
       "│ NCc1c(F)cccc1N1CCCC1              ┆ 3     │\n",
       "│ Cl.N#CC1(NC(=O)CN)CC1             ┆ 6     │\n",
       "│ Cl.NCC1Cc2ccccc2C1                ┆ 9     │\n",
       "│ Cl.Cl.NCc1cnsc1                   ┆ 15    │\n",
       "│ …                                 ┆ …     │\n",
       "│ Nc1nc(NCc2ccc(F)cc2)ccc1[N+](=O)… ┆ 6426  │\n",
       "│ Nc1ccc2[nH]c(=O)[nH]c2c1          ┆ 6714  │\n",
       "│ NCC1CN2CCN1CC2                    ┆ 8361  │\n",
       "│ Cc1nn(C)c2ncc(CN)cc12.Cl          ┆ 8481  │\n",
       "│ Cl.Cl.NCCc1nnc2c(=O)[nH]ccn12     ┆ 10323 │\n",
       "└───────────────────────────────────┴───────┘"
      ]
     },
     "execution_count": 20,
     "metadata": {},
     "output_type": "execute_result"
    }
   ],
   "source": [
    "test_df[\"buildingblock3_smiles\"].value_counts().sort(\"count\")"
   ]
  },
  {
   "cell_type": "code",
   "execution_count": 21,
   "id": "91d78b0d-d8dc-4788-aa64-61e7d58e8c13",
   "metadata": {},
   "outputs": [
    {
     "data": {
      "text/html": [
       "<div><style>\n",
       ".dataframe > thead > tr,\n",
       ".dataframe > tbody > tr {\n",
       "  text-align: right;\n",
       "  white-space: pre-wrap;\n",
       "}\n",
       "</style>\n",
       "<small>shape: (878_022, 2)</small><table border=\"1\" class=\"dataframe\"><thead><tr><th>molecule_smiles</th><th>count</th></tr><tr><td>str</td><td>u32</td></tr></thead><tbody><tr><td>&quot;C#CCCC[C@H](Nc…</td><td>3</td></tr><tr><td>&quot;C#CCCC[C@H](Nc…</td><td>3</td></tr><tr><td>&quot;C#CCCC[C@H](Nc…</td><td>3</td></tr><tr><td>&quot;C#CCCC[C@H](Nc…</td><td>3</td></tr><tr><td>&quot;C#CCCC[C@H](Nc…</td><td>3</td></tr><tr><td>&hellip;</td><td>&hellip;</td></tr><tr><td>&quot;[N-]=[N+]=NCCC…</td><td>3</td></tr><tr><td>&quot;[N-]=[N+]=NCCC…</td><td>3</td></tr><tr><td>&quot;[N-]=[N+]=NCCC…</td><td>3</td></tr><tr><td>&quot;[N-]=[N+]=NCCC…</td><td>3</td></tr><tr><td>&quot;[N-]=[N+]=NCCC…</td><td>3</td></tr></tbody></table></div>"
      ],
      "text/plain": [
       "shape: (878_022, 2)\n",
       "┌───────────────────────────────────┬───────┐\n",
       "│ molecule_smiles                   ┆ count │\n",
       "│ ---                               ┆ ---   │\n",
       "│ str                               ┆ u32   │\n",
       "╞═══════════════════════════════════╪═══════╡\n",
       "│ C#CCCC[C@H](Nc1nc(NC(=N)c2cccc(C… ┆ 3     │\n",
       "│ C#CCCC[C@H](Nc1nc(NC(=N)c2cccc(C… ┆ 3     │\n",
       "│ C#CCCC[C@H](Nc1nc(NC(=N)c2cccc(C… ┆ 3     │\n",
       "│ C#CCCC[C@H](Nc1nc(NC(=N)c2cccc(C… ┆ 3     │\n",
       "│ C#CCCC[C@H](Nc1nc(NC(=N)c2cccc(C… ┆ 3     │\n",
       "│ …                                 ┆ …     │\n",
       "│ [N-]=[N+]=NCCC[C@H](Nc1nc(Nc2ncc… ┆ 3     │\n",
       "│ [N-]=[N+]=NCCC[C@H](Nc1nc(Nc2ncc… ┆ 3     │\n",
       "│ [N-]=[N+]=NCCC[C@H](Nc1nc(Nc2ncn… ┆ 3     │\n",
       "│ [N-]=[N+]=NCCC[C@H](Nc1nc(Nc2ncn… ┆ 3     │\n",
       "│ [N-]=[N+]=NCCC[C@H](Nc1nc(Nc2nnc… ┆ 3     │\n",
       "└───────────────────────────────────┴───────┘"
      ]
     },
     "execution_count": 21,
     "metadata": {},
     "output_type": "execute_result"
    }
   ],
   "source": [
    "test_df[\"molecule_smiles\"].value_counts().sort(\"molecule_smiles\")"
   ]
  },
  {
   "cell_type": "code",
   "execution_count": null,
   "id": "b08f9660-5ed0-4384-a22b-8c6166a0f28d",
   "metadata": {},
   "outputs": [],
   "source": []
  }
 ],
 "metadata": {
  "kernelspec": {
   "display_name": "Python 3 (ipykernel)",
   "language": "python",
   "name": "python3"
  },
  "language_info": {
   "codemirror_mode": {
    "name": "ipython",
    "version": 3
   },
   "file_extension": ".py",
   "mimetype": "text/x-python",
   "name": "python",
   "nbconvert_exporter": "python",
   "pygments_lexer": "ipython3",
   "version": "3.9.16"
  }
 },
 "nbformat": 4,
 "nbformat_minor": 5
}
