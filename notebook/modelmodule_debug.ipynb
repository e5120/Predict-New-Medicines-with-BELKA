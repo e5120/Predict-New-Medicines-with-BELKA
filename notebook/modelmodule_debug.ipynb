{
 "cells": [
  {
   "cell_type": "code",
   "execution_count": 1,
   "id": "e58fe264-1c13-42ce-9586-01b011c47e10",
   "metadata": {},
   "outputs": [
    {
     "name": "stderr",
     "output_type": "stream",
     "text": [
      "/opt/conda/envs/rapids/lib/python3.9/site-packages/torchvision/io/image.py:13: UserWarning: Failed to load image Python extension: libtorch_cuda_cu.so: cannot open shared object file: No such file or directory\n",
      "  warn(f\"Failed to load image Python extension: {e}\")\n"
     ]
    }
   ],
   "source": [
    "import os\n",
    "import sys\n",
    "sys.path.append(\"..\")\n",
    "\n",
    "from hydra import compose, initialize_config_dir\n",
    "\n",
    "from lb import LBModelModule"
   ]
  },
  {
   "cell_type": "code",
   "execution_count": 2,
   "id": "fb4c69dd-348a-4cbc-a8e2-2ef850adb2c8",
   "metadata": {},
   "outputs": [],
   "source": [
    "class Config():\n",
    "    @staticmethod\n",
    "    def get_cnf(config_dir, config_name):\n",
    "        conf_dir = os.path.join(config_dir)\n",
    "        if not os.path.isdir(conf_dir):\n",
    "            print(f\"Can not find file: {conf_dir}.\")\n",
    "            sys.exit(-1)\n",
    "        with initialize_config_dir(config_dir=conf_dir):\n",
    "            cnf = compose(config_name=config_name)\n",
    "            return cnf"
   ]
  },
  {
   "cell_type": "code",
   "execution_count": 3,
   "id": "5acfbbae-70c6-4a66-81b5-596a56a0bf83",
   "metadata": {},
   "outputs": [
    {
     "name": "stderr",
     "output_type": "stream",
     "text": [
      "/tmp/ipykernel_656370/3986907072.py:8: UserWarning: \n",
      "The version_base parameter is not specified.\n",
      "Please specify a compatability version level, or None.\n",
      "Will assume defaults for version 1.1\n",
      "  with initialize_config_dir(config_dir=conf_dir):\n"
     ]
    }
   ],
   "source": [
    "cfg = Config.get_cnf(\"/project/lb/run/conf/\", \"train.yaml\")"
   ]
  },
  {
   "cell_type": "code",
   "execution_count": 5,
   "id": "5e05d550-e307-45a9-a46a-c53a7a311635",
   "metadata": {},
   "outputs": [
    {
     "name": "stderr",
     "output_type": "stream",
     "text": [
      "Some weights of RobertaModel were not initialized from the model checkpoint at DeepChem/ChemBERTa-77M-MTR and are newly initialized: ['roberta.pooler.dense.bias', 'roberta.pooler.dense.weight']\n",
      "You should probably TRAIN this model on a down-stream task to be able to use it for predictions and inference.\n"
     ]
    }
   ],
   "source": [
    "modelmodule = LBModelModule(cfg)"
   ]
  },
  {
   "cell_type": "code",
   "execution_count": 8,
   "id": "45f40aad-343b-4878-bfa1-35d2dffc1b17",
   "metadata": {},
   "outputs": [
    {
     "data": {
      "text/plain": [
       "LBModelModule(\n",
       "  (model): LMModel(\n",
       "    (loss_fn): BCEWithLogitsLoss()\n",
       "    (lm): RobertaModel(\n",
       "      (embeddings): RobertaEmbeddings(\n",
       "        (word_embeddings): Embedding(600, 384, padding_idx=1)\n",
       "        (position_embeddings): Embedding(515, 384, padding_idx=1)\n",
       "        (token_type_embeddings): Embedding(1, 384)\n",
       "        (LayerNorm): LayerNorm((384,), eps=1e-12, elementwise_affine=True)\n",
       "        (dropout): Dropout(p=0.144, inplace=False)\n",
       "      )\n",
       "      (encoder): RobertaEncoder(\n",
       "        (layer): ModuleList(\n",
       "          (0-2): 3 x RobertaLayer(\n",
       "            (attention): RobertaAttention(\n",
       "              (self): RobertaSelfAttention(\n",
       "                (query): Linear(in_features=384, out_features=384, bias=True)\n",
       "                (key): Linear(in_features=384, out_features=384, bias=True)\n",
       "                (value): Linear(in_features=384, out_features=384, bias=True)\n",
       "                (dropout): Dropout(p=0.109, inplace=False)\n",
       "              )\n",
       "              (output): RobertaSelfOutput(\n",
       "                (dense): Linear(in_features=384, out_features=384, bias=True)\n",
       "                (LayerNorm): LayerNorm((384,), eps=1e-12, elementwise_affine=True)\n",
       "                (dropout): Dropout(p=0.144, inplace=False)\n",
       "              )\n",
       "            )\n",
       "            (intermediate): RobertaIntermediate(\n",
       "              (dense): Linear(in_features=384, out_features=464, bias=True)\n",
       "              (intermediate_act_fn): GELUActivation()\n",
       "            )\n",
       "            (output): RobertaOutput(\n",
       "              (dense): Linear(in_features=464, out_features=384, bias=True)\n",
       "              (LayerNorm): LayerNorm((384,), eps=1e-12, elementwise_affine=True)\n",
       "              (dropout): Dropout(p=0.144, inplace=False)\n",
       "            )\n",
       "          )\n",
       "        )\n",
       "      )\n",
       "      (pooler): RobertaPooler(\n",
       "        (dense): Linear(in_features=384, out_features=384, bias=True)\n",
       "        (activation): Tanh()\n",
       "      )\n",
       "    )\n",
       "    (dropout): Dropout(p=0.144, inplace=False)\n",
       "    (classifier): Linear(in_features=384, out_features=3, bias=True)\n",
       "  )\n",
       ")"
      ]
     },
     "execution_count": 8,
     "metadata": {},
     "output_type": "execute_result"
    }
   ],
   "source": [
    "modelmodule"
   ]
  },
  {
   "cell_type": "code",
   "execution_count": null,
   "id": "d6bcd3d2-7134-4095-8cf9-517d6adfc205",
   "metadata": {},
   "outputs": [],
   "source": []
  }
 ],
 "metadata": {
  "kernelspec": {
   "display_name": "Python 3 (ipykernel)",
   "language": "python",
   "name": "python3"
  },
  "language_info": {
   "codemirror_mode": {
    "name": "ipython",
    "version": 3
   },
   "file_extension": ".py",
   "mimetype": "text/x-python",
   "name": "python",
   "nbconvert_exporter": "python",
   "pygments_lexer": "ipython3",
   "version": "3.9.16"
  }
 },
 "nbformat": 4,
 "nbformat_minor": 5
}
